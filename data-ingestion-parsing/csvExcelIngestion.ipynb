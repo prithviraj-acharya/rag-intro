{
 "cells": [
  {
   "cell_type": "markdown",
   "id": "40168b66",
   "metadata": {},
   "source": [
    "## CSV EXCEL INGESTION"
   ]
  },
  {
   "cell_type": "code",
   "execution_count": 2,
   "id": "344a3556",
   "metadata": {},
   "outputs": [],
   "source": [
    "import pandas as pd\n",
    "import os"
   ]
  },
  {
   "cell_type": "code",
   "execution_count": 3,
   "id": "e1cc7874",
   "metadata": {},
   "outputs": [],
   "source": [
    "# create sample data and save as CSV\n",
    "\n",
    "data = {\n",
    "    'Product': ['Laptop', 'Chair', 'T-Shirt'],\n",
    "    'Category': ['Electronics', 'Furniture', 'Clothing'],\n",
    "    'Price': [100, 150, 200],\n",
    "    'Stock': [30, 20, 50],\n",
    "    'Discription': [\n",
    "        'High-quality electronic product',\n",
    "        'Comfortable and stylish furniture',\n",
    "        'Trendy and affordable clothing'\n",
    "    ]\n",
    "}\n",
    "\n",
    "df = pd.DataFrame(data)\n",
    "csv_path = '../data/structured_files/products.csv'\n",
    "df.to_csv(csv_path, index=False)"
   ]
  },
  {
   "cell_type": "code",
   "execution_count": 4,
   "id": "1756c273",
   "metadata": {},
   "outputs": [],
   "source": [
    "# create sample data with sheet with xlsx\n",
    "\n",
    "excel_path = '../data/structured_files/products_data.xlsx'\n",
    "    "
   ]
  },
  {
   "cell_type": "markdown",
   "id": "7d8edac3",
   "metadata": {},
   "source": [
    "# CSV Proccessing"
   ]
  },
  {
   "cell_type": "code",
   "execution_count": 5,
   "id": "5e64242d",
   "metadata": {},
   "outputs": [],
   "source": [
    "from langchain_community.document_loaders import CSVLoader\n",
    "from langchain_community.document_loaders import UnstructuredCSVLoader"
   ]
  },
  {
   "cell_type": "code",
   "execution_count": 6,
   "id": "17f315a9",
   "metadata": {},
   "outputs": [
    {
     "name": "stdout",
     "output_type": "stream",
     "text": [
      "CSV Loader: row based document loader\n",
      "Loaded 3 documents using CSVLoader.\n",
      "first document:\n",
      "page_content='Product: Laptop\n",
      "Category: Electronics\n",
      "Price: 100\n",
      "Stock: 30\n",
      "Discription: High-quality electronic product' metadata={'source': '../data/structured_files/products.csv', 'row': 0}\n",
      "meta data: {'source': '../data/structured_files/products.csv', 'row': 0}\n"
     ]
    }
   ],
   "source": [
    "# Load CSV using CSVLoader\n",
    "\n",
    "print('CSV Loader: row based document loader')\n",
    "csv_loader = CSVLoader(file_path=csv_path, encoding='utf-8', csv_args={'delimiter': ',','quotechar': '\"'})\n",
    "csv_documents = csv_loader.load()\n",
    "\n",
    "print(f\"Loaded {len(csv_documents)} documents using CSVLoader.\")\n",
    "print('first document:')\n",
    "print(csv_documents[0])\n",
    "print('meta data:',csv_documents[0].metadata)"
   ]
  },
  {
   "cell_type": "code",
   "execution_count": 7,
   "id": "9907b95b",
   "metadata": {},
   "outputs": [],
   "source": [
    "from typing import List\n",
    "from langchain_core.documents import Document\n",
    "import pandas as pd\n",
    "\n",
    "def process_csv_with_custom_metadat(filePath: str) -> List[Document]:\n",
    "    documents = []\n",
    "    df = pd.read_csv(filePath)\n",
    "    \n",
    "    for index, row in df.iterrows():\n",
    "        page_content = f\"\"\"Product Information:\n",
    "                Product: {row['Product']}\n",
    "                Category: {row['Category']}\n",
    "                Price: {row['Price']}\n",
    "                Stock: {row['Stock']}\n",
    "                Description: {row['Discription']}\n",
    "                \"\"\"\n",
    "        custom_document = Document(\n",
    "                page_content = page_content,\n",
    "                metadata={\n",
    "                    'source': os.path.basename(filePath),\n",
    "                    'row_index': index,\n",
    "                    'Product': row['Product'],\n",
    "                    'Category': row['Category'],\n",
    "                    'Price': row['Price'],\n",
    "                    'Stock': row['Stock'],\n",
    "                    'data_type': 'product_info'\n",
    "            }\n",
    "        )\n",
    "        documents.extend(custom_document)\n",
    "    \n",
    "    return documents"
   ]
  },
  {
   "cell_type": "code",
   "execution_count": 8,
   "id": "41082374",
   "metadata": {},
   "outputs": [
    {
     "data": {
      "text/plain": [
       "[('id', None),\n",
       " ('metadata',\n",
       "  {'source': 'products.csv',\n",
       "   'row_index': 0,\n",
       "   'Product': 'Laptop',\n",
       "   'Category': 'Electronics',\n",
       "   'Price': 100,\n",
       "   'Stock': 30,\n",
       "   'data_type': 'product_info'}),\n",
       " ('page_content',\n",
       "  'Product Information:\\n                Product: Laptop\\n                Category: Electronics\\n                Price: 100\\n                Stock: 30\\n                Description: High-quality electronic product\\n                '),\n",
       " ('type', 'Document'),\n",
       " ('id', None),\n",
       " ('metadata',\n",
       "  {'source': 'products.csv',\n",
       "   'row_index': 1,\n",
       "   'Product': 'Chair',\n",
       "   'Category': 'Furniture',\n",
       "   'Price': 150,\n",
       "   'Stock': 20,\n",
       "   'data_type': 'product_info'}),\n",
       " ('page_content',\n",
       "  'Product Information:\\n                Product: Chair\\n                Category: Furniture\\n                Price: 150\\n                Stock: 20\\n                Description: Comfortable and stylish furniture\\n                '),\n",
       " ('type', 'Document'),\n",
       " ('id', None),\n",
       " ('metadata',\n",
       "  {'source': 'products.csv',\n",
       "   'row_index': 2,\n",
       "   'Product': 'T-Shirt',\n",
       "   'Category': 'Clothing',\n",
       "   'Price': 200,\n",
       "   'Stock': 50,\n",
       "   'data_type': 'product_info'}),\n",
       " ('page_content',\n",
       "  'Product Information:\\n                Product: T-Shirt\\n                Category: Clothing\\n                Price: 200\\n                Stock: 50\\n                Description: Trendy and affordable clothing\\n                '),\n",
       " ('type', 'Document')]"
      ]
     },
     "execution_count": 8,
     "metadata": {},
     "output_type": "execute_result"
    }
   ],
   "source": [
    "process_csv_with_custom_metadat(csv_path)"
   ]
  },
  {
   "cell_type": "code",
   "execution_count": 9,
   "id": "f4247f5a",
   "metadata": {},
   "outputs": [
    {
     "name": "stdout",
     "output_type": "stream",
     "text": [
      "Comparison between CSVLoader and custom metadata loader:\n",
      "Normal csv loader loses table content structure\n",
      "Custom metadata loader retains table structure in content and with rich metadata\n"
     ]
    }
   ],
   "source": [
    "print('Comparison between CSVLoader and custom metadata loader:')\n",
    "print('Normal csv loader loses table content structure')\n",
    "print('Custom metadata loader retains table structure in content and with rich metadata')"
   ]
  },
  {
   "cell_type": "markdown",
   "id": "95631f38",
   "metadata": {},
   "source": [
    "### Excel Processing"
   ]
  },
  {
   "cell_type": "code",
   "execution_count": 10,
   "id": "614f5334",
   "metadata": {},
   "outputs": [],
   "source": [
    "## Excel Processing with multiple sheets with pandas\n",
    "\n",
    "def process_excel_with_custom_metadata(filePath: str) -> List[Document]:\n",
    "    documents = []\n",
    "    xls = pd.ExcelFile(filePath)\n",
    "    print(f\"Found sheets: {xls.sheet_names}\")\n",
    "    \n",
    "    for sheet_name in xls.sheet_names:\n",
    "        df = pd.read_excel(xls, sheet_name=sheet_name)\n",
    "        \n",
    "        for index, row in df.iterrows():\n",
    "            page_content = f\"\"\"\n",
    "                        Sheet: {sheet_name}\n",
    "                        rows: {len(df)}\n",
    "                        columns: {', '.join(df.columns)}\n",
    "                    \"\"\"\n",
    "            custom_document = Document(\n",
    "                    page_content = page_content,\n",
    "                    metadata={\n",
    "                        'source': os.path.basename(filePath),\n",
    "                        'sheet_name': sheet_name,\n",
    "                        'row_index': index,\n",
    "                        'Category': row['Category'],\n",
    "                        'Price': row['Price'],\n",
    "                        'data_type': 'product_info'\n",
    "                }\n",
    "            )\n",
    "            documents.extend(custom_document)\n",
    "    \n",
    "    return documents"
   ]
  },
  {
   "cell_type": "code",
   "execution_count": 11,
   "id": "8add521d",
   "metadata": {},
   "outputs": [
    {
     "name": "stdout",
     "output_type": "stream",
     "text": [
      "Found sheets: ['Sheet1', 'Sheet2']\n"
     ]
    },
    {
     "data": {
      "text/plain": [
       "[('id', None),\n",
       " ('metadata',\n",
       "  {'source': 'products_data.xlsx',\n",
       "   'sheet_name': 'Sheet1',\n",
       "   'row_index': 0,\n",
       "   'Category': 'Electronics',\n",
       "   'Price': 100,\n",
       "   'data_type': 'product_info'}),\n",
       " ('page_content',\n",
       "  '\\n                        Sheet: Sheet1\\n                        rows: 5\\n                        columns: Product, Category, Price, Stock, Description\\n                    '),\n",
       " ('type', 'Document'),\n",
       " ('id', None),\n",
       " ('metadata',\n",
       "  {'source': 'products_data.xlsx',\n",
       "   'sheet_name': 'Sheet1',\n",
       "   'row_index': 1,\n",
       "   'Category': 'Furniture',\n",
       "   'Price': 150,\n",
       "   'data_type': 'product_info'}),\n",
       " ('page_content',\n",
       "  '\\n                        Sheet: Sheet1\\n                        rows: 5\\n                        columns: Product, Category, Price, Stock, Description\\n                    '),\n",
       " ('type', 'Document'),\n",
       " ('id', None),\n",
       " ('metadata',\n",
       "  {'source': 'products_data.xlsx',\n",
       "   'sheet_name': 'Sheet1',\n",
       "   'row_index': 2,\n",
       "   'Category': 'Clothing',\n",
       "   'Price': 200,\n",
       "   'data_type': 'product_info'}),\n",
       " ('page_content',\n",
       "  '\\n                        Sheet: Sheet1\\n                        rows: 5\\n                        columns: Product, Category, Price, Stock, Description\\n                    '),\n",
       " ('type', 'Document'),\n",
       " ('id', None),\n",
       " ('metadata',\n",
       "  {'source': 'products_data.xlsx',\n",
       "   'sheet_name': 'Sheet1',\n",
       "   'row_index': 3,\n",
       "   'Category': 'Books',\n",
       "   'Price': 50,\n",
       "   'data_type': 'product_info'}),\n",
       " ('page_content',\n",
       "  '\\n                        Sheet: Sheet1\\n                        rows: 5\\n                        columns: Product, Category, Price, Stock, Description\\n                    '),\n",
       " ('type', 'Document'),\n",
       " ('id', None),\n",
       " ('metadata',\n",
       "  {'source': 'products_data.xlsx',\n",
       "   'sheet_name': 'Sheet1',\n",
       "   'row_index': 4,\n",
       "   'Category': 'Electronics',\n",
       "   'Price': 80,\n",
       "   'data_type': 'product_info'}),\n",
       " ('page_content',\n",
       "  '\\n                        Sheet: Sheet1\\n                        rows: 5\\n                        columns: Product, Category, Price, Stock, Description\\n                    '),\n",
       " ('type', 'Document'),\n",
       " ('id', None),\n",
       " ('metadata',\n",
       "  {'source': 'products_data.xlsx',\n",
       "   'sheet_name': 'Sheet2',\n",
       "   'row_index': 0,\n",
       "   'Category': 'Electronics',\n",
       "   'Price': 100,\n",
       "   'data_type': 'product_info'}),\n",
       " ('page_content',\n",
       "  '\\n                        Sheet: Sheet2\\n                        rows: 5\\n                        columns: Product, Category, Price, Stock, Description\\n                    '),\n",
       " ('type', 'Document'),\n",
       " ('id', None),\n",
       " ('metadata',\n",
       "  {'source': 'products_data.xlsx',\n",
       "   'sheet_name': 'Sheet2',\n",
       "   'row_index': 1,\n",
       "   'Category': 'Furniture',\n",
       "   'Price': 150,\n",
       "   'data_type': 'product_info'}),\n",
       " ('page_content',\n",
       "  '\\n                        Sheet: Sheet2\\n                        rows: 5\\n                        columns: Product, Category, Price, Stock, Description\\n                    '),\n",
       " ('type', 'Document'),\n",
       " ('id', None),\n",
       " ('metadata',\n",
       "  {'source': 'products_data.xlsx',\n",
       "   'sheet_name': 'Sheet2',\n",
       "   'row_index': 2,\n",
       "   'Category': 'Clothing',\n",
       "   'Price': 200,\n",
       "   'data_type': 'product_info'}),\n",
       " ('page_content',\n",
       "  '\\n                        Sheet: Sheet2\\n                        rows: 5\\n                        columns: Product, Category, Price, Stock, Description\\n                    '),\n",
       " ('type', 'Document'),\n",
       " ('id', None),\n",
       " ('metadata',\n",
       "  {'source': 'products_data.xlsx',\n",
       "   'sheet_name': 'Sheet2',\n",
       "   'row_index': 3,\n",
       "   'Category': 'Books',\n",
       "   'Price': 50,\n",
       "   'data_type': 'product_info'}),\n",
       " ('page_content',\n",
       "  '\\n                        Sheet: Sheet2\\n                        rows: 5\\n                        columns: Product, Category, Price, Stock, Description\\n                    '),\n",
       " ('type', 'Document'),\n",
       " ('id', None),\n",
       " ('metadata',\n",
       "  {'source': 'products_data.xlsx',\n",
       "   'sheet_name': 'Sheet2',\n",
       "   'row_index': 4,\n",
       "   'Category': 'Electronics',\n",
       "   'Price': 80,\n",
       "   'data_type': 'product_info'}),\n",
       " ('page_content',\n",
       "  '\\n                        Sheet: Sheet2\\n                        rows: 5\\n                        columns: Product, Category, Price, Stock, Description\\n                    '),\n",
       " ('type', 'Document')]"
      ]
     },
     "execution_count": 11,
     "metadata": {},
     "output_type": "execute_result"
    }
   ],
   "source": [
    "process_excel_with_custom_metadata(excel_path)"
   ]
  },
  {
   "cell_type": "code",
   "execution_count": 15,
   "id": "6a1b291b",
   "metadata": {},
   "outputs": [],
   "source": [
    "import pandas as pd\n",
    "from langchain_community.document_loaders import UnstructuredCSVLoader\n",
    "\n",
    "xls = pd.ExcelFile(excel_path)\n",
    "all_documents = []\n",
    "\n",
    "for sheet_name in xls.sheet_names:\n",
    "    df = pd.read_excel(xls, sheet_name=sheet_name)\n",
    "    csv_path = f'../data/structured_files/{sheet_name}.csv'\n",
    "    df.to_csv(csv_path, index=False, encoding=\"utf-8\")\n",
    "    loader = UnstructuredCSVLoader(file_path=csv_path, mode=\"elements\")\n",
    "    docs = loader.load()\n",
    "    all_documents.extend(docs)\n",
    "\n",
    "# all_documents now contains documents from all sheets"
   ]
  },
  {
   "cell_type": "code",
   "execution_count": 17,
   "id": "6f98e3ca",
   "metadata": {},
   "outputs": [
    {
     "data": {
      "text/plain": [
       "[Document(metadata={'source': '../data/structured_files/Sheet1.csv', 'file_directory': '../data/structured_files', 'filename': 'Sheet1.csv', 'last_modified': '2025-10-26T09:37:37', 'text_as_html': '<table><tr><td>Product</td><td>Category</td><td>Price</td><td>Stock</td><td>Description</td></tr><tr><td>Laptop</td><td>Electronics</td><td>100</td><td>30</td><td>High-quality electronic product</td></tr><tr><td>Chair</td><td>Furniture</td><td>150</td><td>20</td><td>Comfortable and stylish furniture</td></tr><tr><td>T-Shirt</td><td>Clothing</td><td>200</td><td>50</td><td>Trendy and affordable clothing</td></tr><tr><td>Book</td><td>Books</td><td>50</td><td>100</td><td>Informative and engaging reading material</td></tr><tr><td>Phone</td><td>Electronics</td><td>80</td><td>40</td><td>Latest model with advanced features</td></tr></table>', 'languages': ['eng'], 'filetype': 'text/csv', 'category': 'Table', 'element_id': '7ea38f0d5f50a9d63cba509d5ba1a94e'}, page_content='Product Category Price Stock Description Laptop Electronics 100 30 High-quality electronic product Chair Furniture 150 20 Comfortable and stylish furniture T-Shirt Clothing 200 50 Trendy and affordable clothing Book Books 50 100 Informative and engaging reading material Phone Electronics 80 40 Latest model with advanced features'),\n",
       " Document(metadata={'source': '../data/structured_files/Sheet2.csv', 'file_directory': '../data/structured_files', 'filename': 'Sheet2.csv', 'last_modified': '2025-10-26T09:37:37', 'text_as_html': '<table><tr><td>Product</td><td>Category</td><td>Price</td><td>Stock</td><td>Description</td></tr><tr><td>Laptop</td><td>Electronics</td><td>100</td><td>30</td><td>High-quality electronic product</td></tr><tr><td>Chair</td><td>Furniture</td><td>150</td><td>20</td><td>Comfortable and stylish furniture</td></tr><tr><td>T-Shirt</td><td>Clothing</td><td>200</td><td>50</td><td>Trendy and affordable clothing</td></tr><tr><td>Book</td><td>Books</td><td>50</td><td>100</td><td>Informative and engaging reading material</td></tr><tr><td>Phone</td><td>Electronics</td><td>80</td><td>40</td><td>Latest model with advanced features</td></tr></table>', 'languages': ['eng'], 'filetype': 'text/csv', 'category': 'Table', 'element_id': '38c0b3ce9a2e0c1ff3060c3cbf9e2950'}, page_content='Product Category Price Stock Description Laptop Electronics 100 30 High-quality electronic product Chair Furniture 150 20 Comfortable and stylish furniture T-Shirt Clothing 200 50 Trendy and affordable clothing Book Books 50 100 Informative and engaging reading material Phone Electronics 80 40 Latest model with advanced features')]"
      ]
     },
     "execution_count": 17,
     "metadata": {},
     "output_type": "execute_result"
    }
   ],
   "source": [
    "all_documents"
   ]
  }
 ],
 "metadata": {
  "kernelspec": {
   "display_name": "rag-intro",
   "language": "python",
   "name": "python3"
  },
  "language_info": {
   "codemirror_mode": {
    "name": "ipython",
    "version": 3
   },
   "file_extension": ".py",
   "mimetype": "text/x-python",
   "name": "python",
   "nbconvert_exporter": "python",
   "pygments_lexer": "ipython3",
   "version": "3.13.5"
  }
 },
 "nbformat": 4,
 "nbformat_minor": 5
}
