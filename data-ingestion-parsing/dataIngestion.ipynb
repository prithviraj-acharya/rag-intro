{
 "cells": [
  {
   "cell_type": "code",
   "execution_count": 1,
   "id": "9ff11f5b",
   "metadata": {},
   "outputs": [],
   "source": [
    "import os\n",
    "from typing import List, Dict, Any\n",
    "import pandas as pd"
   ]
  },
  {
   "cell_type": "code",
   "execution_count": 2,
   "id": "a88b713d",
   "metadata": {},
   "outputs": [
    {
     "name": "stdout",
     "output_type": "stream",
     "text": [
      "Imports successful\n"
     ]
    }
   ],
   "source": [
    "from langchain_core.documents import Document\n",
    "from langchain_text_splitters import (\n",
    "    RecursiveCharacterTextSplitter,\n",
    "    CharacterTextSplitter,\n",
    "    TokenTextSplitter,\n",
    ")\n",
    "print(\"Imports successful\")"
   ]
  },
  {
   "cell_type": "markdown",
   "id": "2b499c7b",
   "metadata": {},
   "source": [
    "## Understanding Documents in LangChain"
   ]
  },
  {
   "cell_type": "code",
   "execution_count": 12,
   "id": "0ee4f435",
   "metadata": {},
   "outputs": [
    {
     "name": "stdout",
     "output_type": "stream",
     "text": [
      "Document created successfully.\n",
      "Document Source: This is the content of the document.\n",
      "Document metadata: {'source': 'exmaple.txt', 'pages': 1, 'author': 'Prithviraj Acharya', 'date_created': '2025-01-01', 'custom_key': 'custom_value'}\n"
     ]
    }
   ],
   "source": [
    "##Understanding Documents in LangChain\n",
    "doc = Document(\n",
    "    page_content=\"This is the content of the document.\",\n",
    "    metadata={\"source\":\"exmaple.txt\",\n",
    "        \"pages\":1,\n",
    "        \"author\":\"Prithviraj Acharya\",\n",
    "        \"date_created\":\"2025-01-01\",\n",
    "        \"custom_key\":\"custom_value\"\n",
    "        },\n",
    ")\n",
    "\n",
    "print(\"Document created successfully.\")\n",
    "print(f\"Document Source: {doc.page_content}\")\n",
    "print(f\"Document metadata: {doc.metadata}\")"
   ]
  }
 ],
 "metadata": {
  "kernelspec": {
   "display_name": "rag-intro",
   "language": "python",
   "name": "python3"
  },
  "language_info": {
   "codemirror_mode": {
    "name": "ipython",
    "version": 3
   },
   "file_extension": ".py",
   "mimetype": "text/x-python",
   "name": "python",
   "nbconvert_exporter": "python",
   "pygments_lexer": "ipython3",
   "version": "3.13.5"
  }
 },
 "nbformat": 4,
 "nbformat_minor": 5
}
