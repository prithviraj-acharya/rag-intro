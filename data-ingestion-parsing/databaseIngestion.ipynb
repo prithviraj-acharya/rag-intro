{
 "cells": [
  {
   "cell_type": "markdown",
   "id": "6cdf5422",
   "metadata": {},
   "source": [
    "## Database parsing"
   ]
  },
  {
   "cell_type": "code",
   "execution_count": 1,
   "id": "04a27a4b",
   "metadata": {},
   "outputs": [],
   "source": [
    "import sqlite3"
   ]
  },
  {
   "cell_type": "code",
   "execution_count": 2,
   "id": "f471bc26",
   "metadata": {},
   "outputs": [],
   "source": [
    "# create a sample databse\n",
    "\n",
    "conn = sqlite3.connect('../data/database/company.db')\n",
    "cursor = conn.cursor()"
   ]
  },
  {
   "cell_type": "code",
   "execution_count": 3,
   "id": "3aefd166",
   "metadata": {},
   "outputs": [
    {
     "data": {
      "text/plain": [
       "<sqlite3.Cursor at 0x2514c05b7c0>"
      ]
     },
     "execution_count": 3,
     "metadata": {},
     "output_type": "execute_result"
    }
   ],
   "source": [
    "# create tables\n",
    "cursor.execute('''\n",
    "CREATE TABLE IF NOT EXISTS employees (\n",
    "    id INTEGER PRIMARY KEY,\n",
    "    name TEXT NOT NULL,\n",
    "    role TEXT NOT NULL,\n",
    "    department TEXT NOT NULL,\n",
    "    salary REAL NOT NULL\n",
    ")\n",
    "''')"
   ]
  },
  {
   "cell_type": "code",
   "execution_count": 4,
   "id": "bf3d88df",
   "metadata": {},
   "outputs": [
    {
     "data": {
      "text/plain": [
       "<sqlite3.Cursor at 0x2514c05b7c0>"
      ]
     },
     "execution_count": 4,
     "metadata": {},
     "output_type": "execute_result"
    }
   ],
   "source": [
    "cursor.execute('''\n",
    "CREATE TABLE IF NOT EXISTS projects (\n",
    "    id INTEGER PRIMARY KEY,\n",
    "    name TEXT NOT NULL,\n",
    "    budget REAL NOT NULL,\n",
    "    lead_id INTEGER\n",
    ")\n",
    "''')"
   ]
  },
  {
   "cell_type": "code",
   "execution_count": 5,
   "id": "fec36636",
   "metadata": {},
   "outputs": [],
   "source": [
    "# Create sample data\n",
    "\n",
    "employees = [\n",
    "    (1, 'Alice Johnson', 'Software Engineer', 'Development', 90000),\n",
    "    (2, 'Bob Smith', 'Data Scientist', 'Data Science', 95000),\n",
    "    (3, 'Charlie Brown', 'Product Manager', 'Product', 105000),\n",
    "    (4, 'Diana Prince', 'UX Designer', 'Design', 85000)\n",
    "]\n",
    "\n",
    "projects = [\n",
    "    (1, 'Project Alpha', 150000, 3),\n",
    "    (2, 'Project Beta', 200000, 1),\n",
    "    (3, 'Project Gamma', 120000, 2),\n",
    "    (4, 'Project Delta', 180000, 4)\n",
    "]\n"
   ]
  },
  {
   "cell_type": "code",
   "execution_count": 6,
   "id": "f55b61dc",
   "metadata": {},
   "outputs": [],
   "source": [
    "# Insert sample data\n",
    "\n",
    "# cursor.executemany('INSERT INTO employees VALUES (?, ?, ?, ?, ?)', employees)\n",
    "# cursor.executemany('INSERT INTO projects VALUES (?, ?, ?, ?)', projects)"
   ]
  },
  {
   "cell_type": "code",
   "execution_count": 7,
   "id": "b105bc10",
   "metadata": {},
   "outputs": [
    {
     "data": {
      "text/plain": [
       "[(1, 'Alice Johnson', 'Software Engineer', 'Development', 90000.0),\n",
       " (2, 'Bob Smith', 'Data Scientist', 'Data Science', 95000.0),\n",
       " (3, 'Charlie Brown', 'Product Manager', 'Product', 105000.0),\n",
       " (4, 'Diana Prince', 'UX Designer', 'Design', 85000.0)]"
      ]
     },
     "execution_count": 7,
     "metadata": {},
     "output_type": "execute_result"
    }
   ],
   "source": [
    "# same queries\n",
    "\n",
    "cursor.execute('SELECT * FROM employees')\n",
    "employees_data = cursor.fetchall()\n",
    "\n",
    "employees_data"
   ]
  },
  {
   "cell_type": "code",
   "execution_count": 8,
   "id": "ea23329f",
   "metadata": {},
   "outputs": [],
   "source": [
    "conn.commit()\n",
    "conn.close()"
   ]
  },
  {
   "cell_type": "code",
   "execution_count": 9,
   "id": "12d0810f",
   "metadata": {},
   "outputs": [],
   "source": [
    "from langchain_community.utilities.sql_database import SQLDatabase\n",
    "from langchain_community.document_loaders import SQLDatabaseLoader"
   ]
  },
  {
   "cell_type": "code",
   "execution_count": 12,
   "id": "796cb089",
   "metadata": {},
   "outputs": [
    {
     "name": "stdout",
     "output_type": "stream",
     "text": [
      "Database Name: ['employees', 'projects']\n",
      "\n",
      "\n",
      "---TABLE DDL---\n",
      "Database Info: \n",
      "CREATE TABLE employees (\n",
      "\tid INTEGER, \n",
      "\tname TEXT NOT NULL, \n",
      "\trole TEXT NOT NULL, \n",
      "\tdepartment TEXT NOT NULL, \n",
      "\tsalary REAL NOT NULL, \n",
      "\tPRIMARY KEY (id)\n",
      ")\n",
      "\n",
      "/*\n",
      "3 rows from employees table:\n",
      "id\tname\trole\tdepartment\tsalary\n",
      "1\tAlice Johnson\tSoftware Engineer\tDevelopment\t90000.0\n",
      "2\tBob Smith\tData Scientist\tData Science\t95000.0\n",
      "3\tCharlie Brown\tProduct Manager\tProduct\t105000.0\n",
      "*/\n",
      "\n",
      "\n",
      "CREATE TABLE projects (\n",
      "\tid INTEGER, \n",
      "\tname TEXT NOT NULL, \n",
      "\tbudget REAL NOT NULL, \n",
      "\tlead_id INTEGER, \n",
      "\tPRIMARY KEY (id)\n",
      ")\n",
      "\n",
      "/*\n",
      "3 rows from projects table:\n",
      "id\tname\tbudget\tlead_id\n",
      "1\tProject Alpha\t150000.0\t3\n",
      "2\tProject Beta\t200000.0\t1\n",
      "3\tProject Gamma\t120000.0\t2\n",
      "*/\n"
     ]
    }
   ],
   "source": [
    "db = SQLDatabase.from_uri(\"sqlite:///../data/database/company.db\")\n",
    "\n",
    "## Get database info\n",
    "\n",
    "print(f\"Database Name: {db.get_usable_table_names()}\")\n",
    "print('\\n\\n---TABLE DDL---')\n",
    "print(f\"Database Info: {db.get_table_info()}\")\n"
   ]
  },
  {
   "cell_type": "code",
   "execution_count": 6,
   "id": "7e2cac07",
   "metadata": {},
   "outputs": [],
   "source": [
    "from typing import List\n",
    "from langchain_core.documents import Document\n",
    "import sqlite3\n",
    "\n",
    "def db_table_summary_docs(db_path: str) -> List[Document]:\n",
    "    '''Connects to a SQLite DB, extracts table info, and creates summary Documents. Also creates a single joined employee-project doc.'''\n",
    "    conn = sqlite3.connect(db_path)\n",
    "    cursor = conn.cursor()\n",
    "    documents = []\n",
    "    # Table summaries\n",
    "    cursor.execute(\"SELECT name FROM sqlite_master WHERE type='table'\")\n",
    "    tables = [row[0] for row in cursor.fetchall()]\n",
    "    for table in tables:\n",
    "        cursor.execute(f\"PRAGMA table_info({table})\")\n",
    "        columns = [row[1] for row in cursor.fetchall()]\n",
    "        cursor.execute(f\"SELECT COUNT(*) FROM {table}\")\n",
    "        total_records = cursor.fetchone()[0]\n",
    "        cursor.execute(f\"SELECT * FROM {table} LIMIT 1\")\n",
    "        sample_row = cursor.fetchone()\n",
    "        sample_dict = dict(zip(columns, sample_row)) if sample_row else {}\n",
    "        sample_preview = dict(list(sample_dict.items())[:5])\n",
    "        content = (\n",
    "            f\"Table: {table}\\n\"\n",
    "            f\"Columns: {columns}\\n\"\n",
    "            f\"Total Records: {total_records}\\n\"\n",
    "            f\"Sample Record (first 5 fields): {sample_preview}\"\n",
    "        )\n",
    "        doc = Document(page_content=content, metadata={\"table\": table})\n",
    "        documents.append(doc)\n",
    "    # Employee-Project join summary (single doc)\n",
    "    join_query = '''\n",
    "        SELECT e.id, e.name, e.role, e.department, e.salary, p.id as project_id, p.name as project_name, p.budget\n",
    "        FROM employees e\n",
    "        INNER JOIN projects p ON e.id = p.lead_id\n",
    "    '''\n",
    "    cursor.execute(join_query)\n",
    "    rows = cursor.fetchall()\n",
    "    join_lines = []\n",
    "    for row in rows:\n",
    "        emp_id, emp_name, emp_role, emp_dept, emp_salary, proj_id, proj_name, proj_budget = row\n",
    "        join_lines.append(\n",
    "            f\"Employee: {emp_name} (ID: {emp_id}), Role: {emp_role}, Dept: {emp_dept}, Salary: {emp_salary} | \"\n",
    "            f\"Leads Project: {proj_name} (ID: {proj_id}, Budget: {proj_budget})\"\n",
    "        )\n",
    "    if join_lines:\n",
    "        join_content = \"\\n\".join(join_lines)\n",
    "        doc = Document(\n",
    "            page_content=f\"Employee-Project Joins:\\n{join_content}\",\n",
    "            metadata={\"type\": \"employee_project_join\"}\n",
    "        )\n",
    "        documents.append(doc)\n",
    "    conn.close()\n",
    "    return documents\n"
   ]
  },
  {
   "cell_type": "code",
   "execution_count": 7,
   "id": "1d522a3f",
   "metadata": {},
   "outputs": [
    {
     "data": {
      "text/plain": [
       "[Document(metadata={'table': 'employees'}, page_content=\"Table: employees\\nColumns: ['id', 'name', 'role', 'department', 'salary']\\nTotal Records: 4\\nSample Record (first 5 fields): {'id': 1, 'name': 'Alice Johnson', 'role': 'Software Engineer', 'department': 'Development', 'salary': 90000.0}\"),\n",
       " Document(metadata={'table': 'projects'}, page_content=\"Table: projects\\nColumns: ['id', 'name', 'budget', 'lead_id']\\nTotal Records: 4\\nSample Record (first 5 fields): {'id': 1, 'name': 'Project Alpha', 'budget': 150000.0, 'lead_id': 3}\"),\n",
       " Document(metadata={'type': 'employee_project_join'}, page_content='Employee-Project Joins:\\nEmployee: Charlie Brown (ID: 3), Role: Product Manager, Dept: Product, Salary: 105000.0 | Leads Project: Project Alpha (ID: 1, Budget: 150000.0)\\nEmployee: Alice Johnson (ID: 1), Role: Software Engineer, Dept: Development, Salary: 90000.0 | Leads Project: Project Beta (ID: 2, Budget: 200000.0)\\nEmployee: Bob Smith (ID: 2), Role: Data Scientist, Dept: Data Science, Salary: 95000.0 | Leads Project: Project Gamma (ID: 3, Budget: 120000.0)\\nEmployee: Diana Prince (ID: 4), Role: UX Designer, Dept: Design, Salary: 85000.0 | Leads Project: Project Delta (ID: 4, Budget: 180000.0)')]"
      ]
     },
     "execution_count": 7,
     "metadata": {},
     "output_type": "execute_result"
    }
   ],
   "source": [
    "db_table_summary_docs(\"../data/database/company.db\")\n"
   ]
  }
 ],
 "metadata": {
  "kernelspec": {
   "display_name": "rag-intro",
   "language": "python",
   "name": "python3"
  },
  "language_info": {
   "codemirror_mode": {
    "name": "ipython",
    "version": 3
   },
   "file_extension": ".py",
   "mimetype": "text/x-python",
   "name": "python",
   "nbconvert_exporter": "python",
   "pygments_lexer": "ipython3",
   "version": "3.13.5"
  }
 },
 "nbformat": 4,
 "nbformat_minor": 5
}
