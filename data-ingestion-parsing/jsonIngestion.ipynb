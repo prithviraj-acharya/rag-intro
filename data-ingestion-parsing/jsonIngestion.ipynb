{
 "cells": [
  {
   "cell_type": "markdown",
   "id": "c6b12eda",
   "metadata": {},
   "source": [
    "## JSON PARSING AND PROCESSING"
   ]
  },
  {
   "cell_type": "code",
   "execution_count": 1,
   "id": "15b9e034",
   "metadata": {},
   "outputs": [],
   "source": [
    "# JSON PROCESSING STRATEGIES\n",
    "\n",
    "from langchain_community.document_loaders import JSONLoader\n",
    "import json\n",
    "\n",
    "employee_data_path = \"../data/json_files/company.json\""
   ]
  },
  {
   "cell_type": "code",
   "execution_count": 2,
   "id": "cf50e860",
   "metadata": {},
   "outputs": [
    {
     "name": "stdout",
     "output_type": "stream",
     "text": [
      "Loading JSON with different strategies...\n",
      "\n",
      "Loaded 5 documents using JSONLoader with jq_schema '.employees[]'.\n",
      "\n",
      "First document content:\n",
      "page_content='{\"id\": 1, \"name\": \"Rahul Sharma\", \"role\": \"Backend Developer\", \"age\": 29, \"department_id\": 1, \"projects\": [{\"project_id\": \"P1001\", \"name\": \"AI Chatbot\"}]}' metadata={'source': 'E:\\\\data-projects\\\\rag-projects\\\\rag-intro\\\\data\\\\json_files\\\\company.json', 'seq_num': 1}\n",
      "\n",
      "[Document(metadata={'source': 'E:\\\\data-projects\\\\rag-projects\\\\rag-intro\\\\data\\\\json_files\\\\company.json', 'seq_num': 1}, page_content='{\"id\": 1, \"name\": \"Rahul Sharma\", \"role\": \"Backend Developer\", \"age\": 29, \"department_id\": 1, \"projects\": [{\"project_id\": \"P1001\", \"name\": \"AI Chatbot\"}]}'), Document(metadata={'source': 'E:\\\\data-projects\\\\rag-projects\\\\rag-intro\\\\data\\\\json_files\\\\company.json', 'seq_num': 2}, page_content='{\"id\": 2, \"name\": \"Priya Singh\", \"role\": \"Frontend Developer\", \"age\": 26, \"department_id\": 1, \"projects\": [{\"project_id\": \"P1001\", \"name\": \"AI Chatbot\"}]}'), Document(metadata={'source': 'E:\\\\data-projects\\\\rag-projects\\\\rag-intro\\\\data\\\\json_files\\\\company.json', 'seq_num': 3}, page_content='{\"id\": 3, \"name\": \"Amit Verma\", \"role\": \"Sales Executive\", \"age\": 32, \"department_id\": 2, \"projects\": [{\"project_id\": \"P1002\", \"name\": \"CRM Upgrade\"}]}'), Document(metadata={'source': 'E:\\\\data-projects\\\\rag-projects\\\\rag-intro\\\\data\\\\json_files\\\\company.json', 'seq_num': 4}, page_content='{\"id\": 4, \"name\": \"Neha Gupta\", \"role\": \"Account Manager\", \"age\": 28, \"department_id\": 2, \"projects\": [{\"project_id\": \"P1002\", \"name\": \"CRM Upgrade\"}]}'), Document(metadata={'source': 'E:\\\\data-projects\\\\rag-projects\\\\rag-intro\\\\data\\\\json_files\\\\company.json', 'seq_num': 5}, page_content='{\"id\": 5, \"name\": \"Karan Joshi\", \"role\": \"HR Specialist\", \"age\": 31, \"department_id\": 3, \"projects\": []}')]\n"
     ]
    }
   ],
   "source": [
    "print(\"Loading JSON with different strategies...\\n\")\n",
    "\n",
    "# JSON LOADER\n",
    "employee_loader = JSONLoader(file_path=employee_data_path, jq_schema=\".employees[]\", text_content=False)\n",
    "employee_data = employee_loader.load()\n",
    "\n",
    "\n",
    "print(f\"Loaded {len(employee_data)} documents using JSONLoader with jq_schema '.employees[]'.\\n\")\n",
    "print(f\"First document content:\\n{employee_data[0]}\\n\")\n",
    "print(employee_data)"
   ]
  },
  {
   "cell_type": "code",
   "execution_count": 3,
   "id": "78ac0af6",
   "metadata": {},
   "outputs": [],
   "source": [
    "# Custom JSON Parsing\n",
    "from langchain_core.documents import Document\n",
    "from typing import List\n",
    "\n",
    "def parse_json_custom(file_path) -> List[Document]:\n",
    "    with open(file_path, 'r') as file:\n",
    "        data = json.load(file)\n",
    "    \n",
    "    documents = []\n",
    "    for employee in data.get('employees', []):\n",
    "        content = f\"Name: {employee['name']}\\nAge: {employee['age']}\\nDepartment ID: {employee['department_id']}\\nRole: {employee['role']}\\nProjects: {[p['name'] for p in employee.get('projects', [])]}\"\n",
    "        emp_doc = Document(page_content=content, metadata={\n",
    "            'employee_id': employee['id'],\n",
    "            'department_id': employee['department_id'],\n",
    "            'name': employee['name'],\n",
    "            'role': employee['role'],\n",
    "            'projects': employee.get('projects', [])\n",
    "        })\n",
    "        documents.append(emp_doc)\n",
    "    \n",
    "    return documents"
   ]
  },
  {
   "cell_type": "code",
   "execution_count": 4,
   "id": "d0343b41",
   "metadata": {},
   "outputs": [
    {
     "data": {
      "text/plain": [
       "[Document(metadata={'employee_id': 1, 'department_id': 1, 'name': 'Rahul Sharma', 'role': 'Backend Developer', 'projects': [{'project_id': 'P1001', 'name': 'AI Chatbot'}]}, page_content=\"Name: Rahul Sharma\\nAge: 29\\nDepartment ID: 1\\nRole: Backend Developer\\nProjects: ['AI Chatbot']\"),\n",
       " Document(metadata={'employee_id': 2, 'department_id': 1, 'name': 'Priya Singh', 'role': 'Frontend Developer', 'projects': [{'project_id': 'P1001', 'name': 'AI Chatbot'}]}, page_content=\"Name: Priya Singh\\nAge: 26\\nDepartment ID: 1\\nRole: Frontend Developer\\nProjects: ['AI Chatbot']\"),\n",
       " Document(metadata={'employee_id': 3, 'department_id': 2, 'name': 'Amit Verma', 'role': 'Sales Executive', 'projects': [{'project_id': 'P1002', 'name': 'CRM Upgrade'}]}, page_content=\"Name: Amit Verma\\nAge: 32\\nDepartment ID: 2\\nRole: Sales Executive\\nProjects: ['CRM Upgrade']\"),\n",
       " Document(metadata={'employee_id': 4, 'department_id': 2, 'name': 'Neha Gupta', 'role': 'Account Manager', 'projects': [{'project_id': 'P1002', 'name': 'CRM Upgrade'}]}, page_content=\"Name: Neha Gupta\\nAge: 28\\nDepartment ID: 2\\nRole: Account Manager\\nProjects: ['CRM Upgrade']\"),\n",
       " Document(metadata={'employee_id': 5, 'department_id': 3, 'name': 'Karan Joshi', 'role': 'HR Specialist', 'projects': []}, page_content='Name: Karan Joshi\\nAge: 31\\nDepartment ID: 3\\nRole: HR Specialist\\nProjects: []')]"
      ]
     },
     "execution_count": 4,
     "metadata": {},
     "output_type": "execute_result"
    }
   ],
   "source": [
    "parse_json_custom(employee_data_path)"
   ]
  },
  {
   "cell_type": "code",
   "execution_count": null,
   "id": "9a11fe8b",
   "metadata": {},
   "outputs": [],
   "source": []
  },
  {
   "cell_type": "code",
   "execution_count": null,
   "id": "033a6748",
   "metadata": {},
   "outputs": [],
   "source": []
  }
 ],
 "metadata": {
  "kernelspec": {
   "display_name": "rag-intro",
   "language": "python",
   "name": "python3"
  },
  "language_info": {
   "codemirror_mode": {
    "name": "ipython",
    "version": 3
   },
   "file_extension": ".py",
   "mimetype": "text/x-python",
   "name": "python",
   "nbconvert_exporter": "python",
   "pygments_lexer": "ipython3",
   "version": "3.13.5"
  }
 },
 "nbformat": 4,
 "nbformat_minor": 5
}
