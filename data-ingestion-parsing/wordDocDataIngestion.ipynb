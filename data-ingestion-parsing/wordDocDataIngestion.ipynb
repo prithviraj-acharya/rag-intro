{
 "cells": [
  {
   "cell_type": "markdown",
   "id": "4a9c6674",
   "metadata": {},
   "source": [
    "## Word Document Processing"
   ]
  },
  {
   "cell_type": "code",
   "execution_count": 1,
   "id": "ea6a1386",
   "metadata": {},
   "outputs": [],
   "source": [
    "from langchain_community.document_loaders import Docx2txtLoader, UnstructuredWordDocumentLoader"
   ]
  },
  {
   "cell_type": "code",
   "execution_count": 16,
   "id": "d9deceae",
   "metadata": {},
   "outputs": [
    {
     "name": "stdout",
     "output_type": "stream",
     "text": [
      "Using Docx2txtLoader:\n",
      "Number of documents loaded: 1\n",
      "\n",
      "\n",
      "First document content:\n",
      "Here’s a clean, ready-to-use job posting document content for a RAG (Retrieval-Augmented Generation) Application Developer role. You can use it as-is for internal posting, LinkedIn, or official docume\n",
      "First document metadata:\n",
      "{'source': '../data/word_docs/rag-proposals.docx'}\n"
     ]
    }
   ],
   "source": [
    "# Method 1: Using Docx2txtLoader\n",
    "print(\"Using Docx2txtLoader:\")\n",
    "\n",
    "try:\n",
    "    docx_loader = Docx2txtLoader(\"../data/word_docs/rag-proposals.docx\",)\n",
    "    documents = docx_loader.load()\n",
    "    print(f\"Number of documents loaded: {len(documents)}\\n\\n\")\n",
    "    print(f\"First document content:\\n{documents[0].page_content[:200]}\")  # Print first 200 characters\n",
    "    print(f\"First document metadata:\\n{documents[0].metadata}\")\n",
    "    \n",
    "except Exception as e:\n",
    "    print(f\"Error loading document with Docx2txtLoader: {e}\")"
   ]
  },
  {
   "cell_type": "code",
   "execution_count": 18,
   "id": "f42fd2b8",
   "metadata": {},
   "outputs": [
    {
     "name": "stdout",
     "output_type": "stream",
     "text": [
      "\n",
      "Using UnstructuredWordDocumentLoader:\n",
      "Number of elements loaded: 45\n",
      "\n",
      "\n",
      "First document content:\n",
      "Here’s a clean, ready-to-use job posting document content for a RAG (Retrieval-Augmented Generation) Application Developer role. You can use it as-is for internal posting, LinkedIn, or official docume\n",
      "First document metadata:\n",
      "{'source': '../data/word_docs/rag-proposals.docx', 'category_depth': 0, 'emphasized_text_contents': ['job posting document content', 'RAG (Retrieval-Augmented Generation) Application Developer'], 'emphasized_text_tags': ['b', 'b'], 'file_directory': '../data/word_docs', 'filename': 'rag-proposals.docx', 'last_modified': '2025-10-25T22:49:02', 'page_number': 1, 'languages': ['eng'], 'filetype': 'application/vnd.openxmlformats-officedocument.wordprocessingml.document', 'category': 'NarrativeText', 'element_id': '802554f3e187e896e451a2ef004de6e3'}\n"
     ]
    }
   ],
   "source": [
    "## Method 2: Using UnstructuredWordDocumentLoader\n",
    "print(\"\\nUsing UnstructuredWordDocumentLoader:\")\n",
    "\n",
    "try:\n",
    "    unstructured_loader = UnstructuredWordDocumentLoader(\"../data/word_docs/rag-proposals.docx\", mode=\"elements\")\n",
    "    documents_unstructured = unstructured_loader.load()\n",
    "    print(f\"Number of elements loaded: {len(documents_unstructured)}\\n\\n\")\n",
    "    print(f\"First document content:\\n{documents_unstructured[0].page_content[:200]}\")  # Print first 200 characters\n",
    "    print(f\"First document metadata:\\n{documents_unstructured[0].metadata}\")\n",
    "    \n",
    "except Exception as e:\n",
    "    print(f\"Error loading document with UnstructuredWordDocumentLoader: {e}\")"
   ]
  },
  {
   "cell_type": "code",
   "execution_count": 20,
   "id": "fded4f0e",
   "metadata": {},
   "outputs": [
    {
     "data": {
      "text/plain": [
       "Document(metadata={'source': '../data/word_docs/rag-proposals.docx', 'category_depth': 0, 'emphasized_text_contents': ['job posting document content', 'RAG (Retrieval-Augmented Generation) Application Developer'], 'emphasized_text_tags': ['b', 'b'], 'file_directory': '../data/word_docs', 'filename': 'rag-proposals.docx', 'last_modified': '2025-10-25T22:49:02', 'page_number': 1, 'languages': ['eng'], 'filetype': 'application/vnd.openxmlformats-officedocument.wordprocessingml.document', 'category': 'NarrativeText', 'element_id': '802554f3e187e896e451a2ef004de6e3'}, page_content='Here’s a clean, ready-to-use job posting document content for a RAG (Retrieval-Augmented Generation) Application Developer role. You can use it as-is for internal posting, LinkedIn, or official documentation.')"
      ]
     },
     "execution_count": 20,
     "metadata": {},
     "output_type": "execute_result"
    }
   ],
   "source": [
    "documents_unstructured[0]"
   ]
  },
  {
   "cell_type": "code",
   "execution_count": null,
   "id": "2b905d38",
   "metadata": {},
   "outputs": [],
   "source": []
  }
 ],
 "metadata": {
  "kernelspec": {
   "display_name": "rag-intro",
   "language": "python",
   "name": "python3"
  },
  "language_info": {
   "codemirror_mode": {
    "name": "ipython",
    "version": 3
   },
   "file_extension": ".py",
   "mimetype": "text/x-python",
   "name": "python",
   "nbconvert_exporter": "python",
   "pygments_lexer": "ipython3",
   "version": "3.13.5"
  }
 },
 "nbformat": 4,
 "nbformat_minor": 5
}
