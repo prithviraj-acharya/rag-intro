{
 "cells": [
  {
   "cell_type": "markdown",
   "id": "4a9c6674",
   "metadata": {},
   "source": [
    "## Word Document Processing"
   ]
  },
  {
   "cell_type": "code",
   "execution_count": 1,
   "id": "ea6a1386",
   "metadata": {},
   "outputs": [],
   "source": [
    "from langchain_community.document_loaders import Docx2txtLoader, UnstructuredWordDocumentLoader"
   ]
  },
  {
   "cell_type": "code",
   "execution_count": 2,
   "id": "d9deceae",
   "metadata": {},
   "outputs": [
    {
     "name": "stdout",
     "output_type": "stream",
     "text": [
      "Using Docx2txtLoader:\n",
      "Number of documents loaded: 1\n",
      "\n",
      "\n",
      "First document content:\n",
      "Job Posting: Retrieval-Augmented Generation (RAG) Application Developer\n",
      "\n",
      "Position Title\n",
      "\n",
      "RAG Application Developer / LLM Engineer\n",
      "\n",
      "Department\n",
      "\n",
      "Artificial Intelligence / Data Science\n",
      "\n",
      "Location\n",
      "\n",
      "[Remote\n",
      "First document metadata:\n",
      "{'source': '../data/word_docs/rag-proposals.docx'}\n"
     ]
    }
   ],
   "source": [
    "# Method 1: Using Docx2txtLoader\n",
    "print(\"Using Docx2txtLoader:\")\n",
    "\n",
    "try:\n",
    "    docx_loader = Docx2txtLoader(\"../data/word_docs/rag-proposals.docx\",)\n",
    "    documents = docx_loader.load()\n",
    "    print(f\"Number of documents loaded: {len(documents)}\\n\\n\")\n",
    "    print(f\"First document content:\\n{documents[0].page_content[:200]}\")  # Print first 200 characters\n",
    "    print(f\"First document metadata:\\n{documents[0].metadata}\")\n",
    "    \n",
    "except Exception as e:\n",
    "    print(f\"Error loading document with Docx2txtLoader: {e}\")"
   ]
  },
  {
   "cell_type": "code",
   "execution_count": 3,
   "id": "f42fd2b8",
   "metadata": {},
   "outputs": [
    {
     "name": "stdout",
     "output_type": "stream",
     "text": [
      "\n",
      "Using UnstructuredWordDocumentLoader:\n",
      "Number of elements loaded: 41\n",
      "\n",
      "\n",
      "First document content:\n",
      "Job Posting: Retrieval-Augmented Generation (RAG) Application Developer\n",
      "First document metadata:\n",
      "{'source': '../data/word_docs/rag-proposals.docx', 'category_depth': 0, 'emphasized_text_contents': ['Job Posting: Retrieval-Augmented Generation (RAG) Application Developer'], 'emphasized_text_tags': ['b'], 'file_directory': '../data/word_docs', 'filename': 'rag-proposals.docx', 'last_modified': '2025-10-25T23:05:44', 'page_number': 1, 'languages': ['eng'], 'filetype': 'application/vnd.openxmlformats-officedocument.wordprocessingml.document', 'category': 'UncategorizedText', 'element_id': '5afe4d107700167b09b3b2093a78ec90'}\n"
     ]
    }
   ],
   "source": [
    "## Method 2: Using UnstructuredWordDocumentLoader\n",
    "print(\"\\nUsing UnstructuredWordDocumentLoader:\")\n",
    "\n",
    "try:\n",
    "    unstructured_loader = UnstructuredWordDocumentLoader(\"../data/word_docs/rag-proposals.docx\", mode=\"elements\")\n",
    "    documents_unstructured = unstructured_loader.load()\n",
    "    print(f\"Number of elements loaded: {len(documents_unstructured)}\\n\\n\")\n",
    "    print(f\"First document content:\\n{documents_unstructured[0].page_content[:200]}\")  # Print first 200 characters\n",
    "    print(f\"First document metadata:\\n{documents_unstructured[0].metadata}\")\n",
    "    \n",
    "except Exception as e:\n",
    "    print(f\"Error loading document with UnstructuredWordDocumentLoader: {e}\")"
   ]
  },
  {
   "cell_type": "code",
   "execution_count": 5,
   "id": "fded4f0e",
   "metadata": {},
   "outputs": [
    {
     "data": {
      "text/plain": [
       "[Document(metadata={'source': '../data/word_docs/rag-proposals.docx', 'category_depth': 0, 'emphasized_text_contents': ['Job Posting: Retrieval-Augmented Generation (RAG) Application Developer'], 'emphasized_text_tags': ['b'], 'file_directory': '../data/word_docs', 'filename': 'rag-proposals.docx', 'last_modified': '2025-10-25T23:05:44', 'page_number': 1, 'languages': ['eng'], 'filetype': 'application/vnd.openxmlformats-officedocument.wordprocessingml.document', 'category': 'UncategorizedText', 'element_id': '5afe4d107700167b09b3b2093a78ec90'}, page_content='Job Posting: Retrieval-Augmented Generation (RAG) Application Developer'),\n",
       " Document(metadata={'source': '../data/word_docs/rag-proposals.docx', 'emphasized_text_contents': ['Position Title', 'RAG Application Developer / LLM Engineer', 'Department', 'Location', 'Employment Type', 'Experience Level', 'Reports To', 'Application Deadline', 'Contact Email'], 'emphasized_text_tags': ['b', 'b', 'b', 'b', 'b', 'b', 'b', 'b', 'b'], 'file_directory': '../data/word_docs', 'filename': 'rag-proposals.docx', 'last_modified': '2025-10-25T23:05:44', 'page_number': 1, 'text_as_html': '<table><tr><td>Position Title</td><td>RAG Application Developer / LLM Engineer</td></tr><tr><td>Department</td><td>Artificial Intelligence / Data Science</td></tr><tr><td>Location</td><td>[Remote / Hybrid / On-site – City, Country]</td></tr><tr><td>Employment Type</td><td>Full-time</td></tr><tr><td>Experience Level</td><td>2–6 years (flexible based on expertise)</td></tr><tr><td>Reports To</td><td>Lead – AI Systems / Director, ML Engineering</td></tr><tr><td>Application Deadline</td><td>[Insert Date]</td></tr><tr><td>Contact Email</td><td>[Insert HR / Hiring Contact]</td></tr></table>', 'languages': ['eng'], 'filetype': 'application/vnd.openxmlformats-officedocument.wordprocessingml.document', 'category': 'Table', 'element_id': '9cc6367b8e08e2c31693a530a25db03e'}, page_content='Position Title RAG Application Developer / LLM Engineer Department Artificial Intelligence / Data Science Location [Remote / Hybrid / On-site – City, Country] Employment Type Full-time Experience Level 2–6 years (flexible based on expertise) Reports To Lead – AI Systems / Director, ML Engineering Application Deadline [Insert Date] Contact Email [Insert HR / Hiring Contact]'),\n",
       " Document(metadata={'source': '../data/word_docs/rag-proposals.docx', 'category_depth': 0, 'emphasized_text_contents': ['About the Role'], 'emphasized_text_tags': ['b'], 'file_directory': '../data/word_docs', 'filename': 'rag-proposals.docx', 'last_modified': '2025-10-25T23:05:44', 'page_number': 1, 'languages': ['eng'], 'filetype': 'application/vnd.openxmlformats-officedocument.wordprocessingml.document', 'category': 'UncategorizedText', 'element_id': '288f5cf2fff641f9d9c85838af682fcc'}, page_content='About the Role'),\n",
       " Document(metadata={'source': '../data/word_docs/rag-proposals.docx', 'category_depth': 0, 'emphasized_text_contents': ['RAG Application Developer', 'Retrieval-Augmented Generation'], 'emphasized_text_tags': ['b', 'b'], 'file_directory': '../data/word_docs', 'filename': 'rag-proposals.docx', 'last_modified': '2025-10-25T23:05:44', 'page_number': 1, 'languages': ['eng'], 'filetype': 'application/vnd.openxmlformats-officedocument.wordprocessingml.document', 'category': 'NarrativeText', 'element_id': 'a561fe452b079b0a4532162e234284db'}, page_content='We are looking for a RAG Application Developer to design, develop, and optimize Retrieval-Augmented Generation systems that integrate large language models (LLMs) with real-time data sources. The candidate will work on building scalable, production-grade AI pipelines that enhance knowledge discovery and automate reasoning across structured and unstructured data.'),\n",
       " Document(metadata={'source': '../data/word_docs/rag-proposals.docx', 'category_depth': 0, 'emphasized_text_contents': ['Key Responsibilities'], 'emphasized_text_tags': ['b'], 'file_directory': '../data/word_docs', 'filename': 'rag-proposals.docx', 'last_modified': '2025-10-25T23:05:44', 'page_number': 1, 'languages': ['eng'], 'filetype': 'application/vnd.openxmlformats-officedocument.wordprocessingml.document', 'category': 'UncategorizedText', 'element_id': '1a561e47eb8255d6c98c1f5960ceafc3'}, page_content='Key Responsibilities'),\n",
       " Document(metadata={'source': '../data/word_docs/rag-proposals.docx', 'category_depth': 0, 'emphasized_text_contents': ['RAG pipelines'], 'emphasized_text_tags': ['b'], 'file_directory': '../data/word_docs', 'filename': 'rag-proposals.docx', 'last_modified': '2025-10-25T23:05:44', 'page_number': 1, 'languages': ['eng'], 'filetype': 'application/vnd.openxmlformats-officedocument.wordprocessingml.document', 'category': 'ListItem', 'element_id': 'ed552846bb0120163e2573db8a835eb5'}, page_content='Design and implement RAG pipelines combining retrieval and generation modules.'),\n",
       " Document(metadata={'source': '../data/word_docs/rag-proposals.docx', 'category_depth': 0, 'emphasized_text_contents': ['document retrieval'], 'emphasized_text_tags': ['b'], 'file_directory': '../data/word_docs', 'filename': 'rag-proposals.docx', 'last_modified': '2025-10-25T23:05:44', 'page_number': 1, 'languages': ['eng'], 'filetype': 'application/vnd.openxmlformats-officedocument.wordprocessingml.document', 'category': 'ListItem', 'element_id': 'dcde9ac1b8782e010b289ea0d84420a8'}, page_content='Develop and optimize document retrieval components using vector databases (FAISS, Pinecone, Chroma, Milvus, etc.).'),\n",
       " Document(metadata={'source': '../data/word_docs/rag-proposals.docx', 'category_depth': 0, 'emphasized_text_contents': ['custom embedding generation workflows'], 'emphasized_text_tags': ['b'], 'file_directory': '../data/word_docs', 'filename': 'rag-proposals.docx', 'last_modified': '2025-10-25T23:05:44', 'page_number': 1, 'languages': ['eng'], 'filetype': 'application/vnd.openxmlformats-officedocument.wordprocessingml.document', 'category': 'ListItem', 'element_id': '12c1f8814d9b407ae4194ddac9bde8b5'}, page_content='Build custom embedding generation workflows for text and multimodal data.'),\n",
       " Document(metadata={'source': '../data/word_docs/rag-proposals.docx', 'category_depth': 0, 'emphasized_text_contents': ['LangChain', ',', 'LlamaIndex', ', Haystack'], 'emphasized_text_tags': ['b', 'b', 'b', 'b'], 'file_directory': '../data/word_docs', 'filename': 'rag-proposals.docx', 'last_modified': '2025-10-25T23:05:44', 'page_number': 1, 'languages': ['eng'], 'filetype': 'application/vnd.openxmlformats-officedocument.wordprocessingml.document', 'category': 'ListItem', 'element_id': '4f5f0e2f38323175477a3343ad5dc89c'}, page_content='Integrate RAG frameworks like LangChain, LlamaIndex, Haystack, or in-house orchestration layers.'),\n",
       " Document(metadata={'source': '../data/word_docs/rag-proposals.docx', 'category_depth': 0, 'emphasized_text_contents': ['retrieval quality metrics and evaluation datasets'], 'emphasized_text_tags': ['b'], 'file_directory': '../data/word_docs', 'filename': 'rag-proposals.docx', 'last_modified': '2025-10-25T23:05:44', 'page_number': 1, 'languages': ['eng'], 'filetype': 'application/vnd.openxmlformats-officedocument.wordprocessingml.document', 'category': 'ListItem', 'element_id': '63adfad9c521189863f7e64377e1d3ab'}, page_content='Fine-tune system performance through retrieval quality metrics and evaluation datasets.'),\n",
       " Document(metadata={'source': '../data/word_docs/rag-proposals.docx', 'category_depth': 0, 'emphasized_text_contents': ['cloud platforms (AWS, GCP, Azure)'], 'emphasized_text_tags': ['b'], 'file_directory': '../data/word_docs', 'filename': 'rag-proposals.docx', 'last_modified': '2025-10-25T23:05:44', 'page_number': 1, 'languages': ['eng'], 'filetype': 'application/vnd.openxmlformats-officedocument.wordprocessingml.document', 'category': 'ListItem', 'element_id': '46dbd7b1767460daba29ec01125d9c73'}, page_content='Deploy, monitor, and maintain RAG systems on cloud platforms (AWS, GCP, Azure).'),\n",
       " Document(metadata={'source': '../data/word_docs/rag-proposals.docx', 'languages': ['eng'], 'file_directory': '../data/word_docs', 'filename': 'rag-proposals.docx', 'filetype': 'application/vnd.openxmlformats-officedocument.wordprocessingml.document', 'category': 'PageBreak', 'element_id': '5e1e1b30888e6337e0417f508eaa086f'}, page_content=''),\n",
       " Document(metadata={'source': '../data/word_docs/rag-proposals.docx', 'category_depth': 0, 'emphasized_text_contents': ['APIs and microservices'], 'emphasized_text_tags': ['b'], 'file_directory': '../data/word_docs', 'filename': 'rag-proposals.docx', 'last_modified': '2025-10-25T23:05:44', 'page_number': 2, 'languages': ['eng'], 'filetype': 'application/vnd.openxmlformats-officedocument.wordprocessingml.document', 'category': 'ListItem', 'element_id': '2bc4802fb0fb386a8018ab367f9bc20c'}, page_content='Collaborate with backend teams to expose model capabilities via APIs and microservices.'),\n",
       " Document(metadata={'source': '../data/word_docs/rag-proposals.docx', 'category_depth': 0, 'emphasized_text_contents': ['LLM pipeline automation', 'knowledge retrieval'], 'emphasized_text_tags': ['b', 'b'], 'file_directory': '../data/word_docs', 'filename': 'rag-proposals.docx', 'last_modified': '2025-10-25T23:05:44', 'page_number': 2, 'languages': ['eng'], 'filetype': 'application/vnd.openxmlformats-officedocument.wordprocessingml.document', 'category': 'ListItem', 'element_id': '460ec571dc38b426b408602760ad63d6'}, page_content='Contribute to internal tools and libraries for LLM pipeline automation and knowledge retrieval.'),\n",
       " Document(metadata={'source': '../data/word_docs/rag-proposals.docx', 'category_depth': 0, 'emphasized_text_contents': ['Required Skills and Qualifications'], 'emphasized_text_tags': ['b'], 'file_directory': '../data/word_docs', 'filename': 'rag-proposals.docx', 'last_modified': '2025-10-25T23:05:44', 'page_number': 2, 'languages': ['eng'], 'filetype': 'application/vnd.openxmlformats-officedocument.wordprocessingml.document', 'category': 'UncategorizedText', 'element_id': 'd3dda35c277c63759d1c659491b0ceea'}, page_content='Required Skills and Qualifications'),\n",
       " Document(metadata={'source': '../data/word_docs/rag-proposals.docx', 'category_depth': 0, 'file_directory': '../data/word_docs', 'filename': 'rag-proposals.docx', 'last_modified': '2025-10-25T23:05:44', 'page_number': 2, 'languages': ['eng'], 'filetype': 'application/vnd.openxmlformats-officedocument.wordprocessingml.document', 'category': 'ListItem', 'element_id': 'c1776f800b748e32fd0f637638325688'}, page_content='Bachelor’s/Master’s in Computer Science, Data Science, or related field.'),\n",
       " Document(metadata={'source': '../data/word_docs/rag-proposals.docx', 'category_depth': 0, 'emphasized_text_contents': ['Python', 'LLM APIs', 'retrieval frameworks'], 'emphasized_text_tags': ['b', 'b', 'b'], 'file_directory': '../data/word_docs', 'filename': 'rag-proposals.docx', 'last_modified': '2025-10-25T23:05:44', 'page_number': 2, 'languages': ['eng'], 'filetype': 'application/vnd.openxmlformats-officedocument.wordprocessingml.document', 'category': 'ListItem', 'element_id': '13309c3b23e42ad8411620848c1b9396'}, page_content='Proficiency in Python, LLM APIs, and retrieval frameworks.'),\n",
       " Document(metadata={'source': '../data/word_docs/rag-proposals.docx', 'category_depth': 0, 'emphasized_text_contents': ['LangChain', 'LlamaIndex', 'Haystack'], 'emphasized_text_tags': ['b', 'b', 'b'], 'file_directory': '../data/word_docs', 'filename': 'rag-proposals.docx', 'last_modified': '2025-10-25T23:05:44', 'page_number': 2, 'languages': ['eng'], 'filetype': 'application/vnd.openxmlformats-officedocument.wordprocessingml.document', 'category': 'ListItem', 'element_id': 'f9c9bb24cc65e4b7b580c5bf1fac2ec2'}, page_content='Experience with LangChain, LlamaIndex, or Haystack for RAG implementations.'),\n",
       " Document(metadata={'source': '../data/word_docs/rag-proposals.docx', 'category_depth': 0, 'emphasized_text_contents': ['vector databases'], 'emphasized_text_tags': ['b'], 'file_directory': '../data/word_docs', 'filename': 'rag-proposals.docx', 'last_modified': '2025-10-25T23:05:44', 'page_number': 2, 'languages': ['eng'], 'filetype': 'application/vnd.openxmlformats-officedocument.wordprocessingml.document', 'category': 'ListItem', 'element_id': '07126241ab799dc13ccf4cd01ad2d271'}, page_content='Hands-on with vector databases like Pinecone, Weaviate, or Chroma.'),\n",
       " Document(metadata={'source': '../data/word_docs/rag-proposals.docx', 'category_depth': 0, 'emphasized_text_contents': ['transformer architectures', 'embedding models'], 'emphasized_text_tags': ['b', 'b'], 'file_directory': '../data/word_docs', 'filename': 'rag-proposals.docx', 'last_modified': '2025-10-25T23:05:44', 'page_number': 2, 'languages': ['eng'], 'filetype': 'application/vnd.openxmlformats-officedocument.wordprocessingml.document', 'category': 'ListItem', 'element_id': '9faf84f6cf34256f3cf1468a728a2945'}, page_content='Understanding of transformer architectures and embedding models (OpenAI, Sentence Transformers, Cohere).'),\n",
       " Document(metadata={'source': '../data/word_docs/rag-proposals.docx', 'category_depth': 0, 'emphasized_text_contents': ['prompt engineering', 'context chunking', 'retrieval evaluation'], 'emphasized_text_tags': ['b', 'b', 'b'], 'file_directory': '../data/word_docs', 'filename': 'rag-proposals.docx', 'last_modified': '2025-10-25T23:05:44', 'page_number': 2, 'languages': ['eng'], 'filetype': 'application/vnd.openxmlformats-officedocument.wordprocessingml.document', 'category': 'ListItem', 'element_id': 'cb852250a797b41167588becf7a37393'}, page_content='Familiarity with prompt engineering, context chunking, and retrieval evaluation.'),\n",
       " Document(metadata={'source': '../data/word_docs/rag-proposals.docx', 'category_depth': 0, 'emphasized_text_contents': ['containerization (Docker, Kubernetes)', 'RESTful API integration'], 'emphasized_text_tags': ['b', 'b'], 'file_directory': '../data/word_docs', 'filename': 'rag-proposals.docx', 'last_modified': '2025-10-25T23:05:44', 'page_number': 2, 'languages': ['eng'], 'filetype': 'application/vnd.openxmlformats-officedocument.wordprocessingml.document', 'category': 'ListItem', 'element_id': '2e60f158bc6e232f7646d09b8f948248'}, page_content='Knowledge of containerization (Docker, Kubernetes) and RESTful API integration.'),\n",
       " Document(metadata={'source': '../data/word_docs/rag-proposals.docx', 'category_depth': 0, 'file_directory': '../data/word_docs', 'filename': 'rag-proposals.docx', 'last_modified': '2025-10-25T23:05:44', 'page_number': 2, 'languages': ['eng'], 'filetype': 'application/vnd.openxmlformats-officedocument.wordprocessingml.document', 'category': 'ListItem', 'element_id': '406c43a78f4c3558ee38c779133f9856'}, page_content='Strong analytical and debugging skills with a focus on production readiness.'),\n",
       " Document(metadata={'source': '../data/word_docs/rag-proposals.docx', 'category_depth': 0, 'emphasized_text_contents': ['Preferred Qualifications'], 'emphasized_text_tags': ['b'], 'file_directory': '../data/word_docs', 'filename': 'rag-proposals.docx', 'last_modified': '2025-10-25T23:05:44', 'page_number': 2, 'languages': ['eng'], 'filetype': 'application/vnd.openxmlformats-officedocument.wordprocessingml.document', 'category': 'UncategorizedText', 'element_id': 'd7657661269d6593503ec9de3d1c30f9'}, page_content='Preferred Qualifications'),\n",
       " Document(metadata={'source': '../data/word_docs/rag-proposals.docx', 'category_depth': 0, 'emphasized_text_contents': ['enterprise-grade or domain-specific RAG systems'], 'emphasized_text_tags': ['b'], 'file_directory': '../data/word_docs', 'filename': 'rag-proposals.docx', 'last_modified': '2025-10-25T23:05:44', 'page_number': 2, 'languages': ['eng'], 'filetype': 'application/vnd.openxmlformats-officedocument.wordprocessingml.document', 'category': 'ListItem', 'element_id': '7e499f14d9f6d4bd7d3be662f0db8b61'}, page_content='Experience building enterprise-grade or domain-specific RAG systems.'),\n",
       " Document(metadata={'source': '../data/word_docs/rag-proposals.docx', 'category_depth': 0, 'emphasized_text_contents': ['multimodal RAG'], 'emphasized_text_tags': ['b'], 'file_directory': '../data/word_docs', 'filename': 'rag-proposals.docx', 'last_modified': '2025-10-25T23:05:44', 'page_number': 2, 'languages': ['eng'], 'filetype': 'application/vnd.openxmlformats-officedocument.wordprocessingml.document', 'category': 'ListItem', 'element_id': '023abd8f2b8c4afed1dc463d7070cba8'}, page_content='Familiarity with multimodal RAG (text + image + structured data).'),\n",
       " Document(metadata={'source': '../data/word_docs/rag-proposals.docx', 'category_depth': 0, 'emphasized_text_contents': ['fine-tuning', 'parameter-efficient tuning'], 'emphasized_text_tags': ['b', 'b'], 'file_directory': '../data/word_docs', 'filename': 'rag-proposals.docx', 'last_modified': '2025-10-25T23:05:44', 'page_number': 2, 'languages': ['eng'], 'filetype': 'application/vnd.openxmlformats-officedocument.wordprocessingml.document', 'category': 'ListItem', 'element_id': 'd908e5b91fcd64af1a1bf1be3dc1af2d'}, page_content='Exposure to fine-tuning or parameter-efficient tuning (LoRA, PEFT).'),\n",
       " Document(metadata={'source': '../data/word_docs/rag-proposals.docx', 'category_depth': 0, 'emphasized_text_contents': ['open-source LLM/RAG projects'], 'emphasized_text_tags': ['b'], 'file_directory': '../data/word_docs', 'filename': 'rag-proposals.docx', 'last_modified': '2025-10-25T23:05:44', 'page_number': 2, 'languages': ['eng'], 'filetype': 'application/vnd.openxmlformats-officedocument.wordprocessingml.document', 'category': 'ListItem', 'element_id': '6656d3d01354024b9662e7f1ce4a2bc4'}, page_content='Prior contributions to open-source LLM/RAG projects.'),\n",
       " Document(metadata={'source': '../data/word_docs/rag-proposals.docx', 'category_depth': 0, 'emphasized_text_contents': ['model monitoring and observability'], 'emphasized_text_tags': ['b'], 'file_directory': '../data/word_docs', 'filename': 'rag-proposals.docx', 'last_modified': '2025-10-25T23:05:44', 'page_number': 2, 'languages': ['eng'], 'filetype': 'application/vnd.openxmlformats-officedocument.wordprocessingml.document', 'category': 'ListItem', 'element_id': 'a37027c09ff2d4cbacadc17318559bb0'}, page_content='Experience with model monitoring and observability in production.'),\n",
       " Document(metadata={'source': '../data/word_docs/rag-proposals.docx', 'category_depth': 0, 'emphasized_text_contents': ['What We Offer'], 'emphasized_text_tags': ['b'], 'file_directory': '../data/word_docs', 'filename': 'rag-proposals.docx', 'last_modified': '2025-10-25T23:05:44', 'page_number': 2, 'languages': ['eng'], 'filetype': 'application/vnd.openxmlformats-officedocument.wordprocessingml.document', 'category': 'UncategorizedText', 'element_id': 'ff0d65286072b8a1f45d1c093030c833'}, page_content='What We Offer'),\n",
       " Document(metadata={'source': '../data/word_docs/rag-proposals.docx', 'category_depth': 0, 'emphasized_text_contents': ['state-of-the-art AI and RAG systems'], 'emphasized_text_tags': ['b'], 'file_directory': '../data/word_docs', 'filename': 'rag-proposals.docx', 'last_modified': '2025-10-25T23:05:44', 'page_number': 2, 'languages': ['eng'], 'filetype': 'application/vnd.openxmlformats-officedocument.wordprocessingml.document', 'category': 'ListItem', 'element_id': 'a077084265ebfe60ae6339fa27913ea4'}, page_content='Work on state-of-the-art AI and RAG systems with real-world impact.'),\n",
       " Document(metadata={'source': '../data/word_docs/rag-proposals.docx', 'category_depth': 0, 'file_directory': '../data/word_docs', 'filename': 'rag-proposals.docx', 'last_modified': '2025-10-25T23:05:44', 'page_number': 2, 'languages': ['eng'], 'filetype': 'application/vnd.openxmlformats-officedocument.wordprocessingml.document', 'category': 'ListItem', 'element_id': 'f232335980dd6088321e1b3edbb41cea'}, page_content='Collaborative, innovative, and research-friendly environment.'),\n",
       " Document(metadata={'source': '../data/word_docs/rag-proposals.docx', 'category_depth': 0, 'file_directory': '../data/word_docs', 'filename': 'rag-proposals.docx', 'last_modified': '2025-10-25T23:05:44', 'page_number': 2, 'languages': ['eng'], 'filetype': 'application/vnd.openxmlformats-officedocument.wordprocessingml.document', 'category': 'ListItem', 'element_id': 'f854106a287cd08c596894eb5dc0d1e3'}, page_content='Competitive compensation and professional development opportunities.'),\n",
       " Document(metadata={'source': '../data/word_docs/rag-proposals.docx', 'languages': ['eng'], 'file_directory': '../data/word_docs', 'filename': 'rag-proposals.docx', 'filetype': 'application/vnd.openxmlformats-officedocument.wordprocessingml.document', 'category': 'PageBreak', 'element_id': '5e1e1b30888e6337e0417f508eaa086f'}, page_content=''),\n",
       " Document(metadata={'source': '../data/word_docs/rag-proposals.docx', 'category_depth': 0, 'file_directory': '../data/word_docs', 'filename': 'rag-proposals.docx', 'last_modified': '2025-10-25T23:05:44', 'page_number': 3, 'languages': ['eng'], 'filetype': 'application/vnd.openxmlformats-officedocument.wordprocessingml.document', 'category': 'ListItem', 'element_id': 'e3423ff6c506b2e5701f80336d80589a'}, page_content='Flexible hybrid/remote work structure.'),\n",
       " Document(metadata={'source': '../data/word_docs/rag-proposals.docx', 'category_depth': 0, 'emphasized_text_contents': ['Application Process'], 'emphasized_text_tags': ['b'], 'file_directory': '../data/word_docs', 'filename': 'rag-proposals.docx', 'last_modified': '2025-10-25T23:05:44', 'page_number': 3, 'languages': ['eng'], 'filetype': 'application/vnd.openxmlformats-officedocument.wordprocessingml.document', 'category': 'UncategorizedText', 'element_id': 'a64645a0a891006ff84d116c486ef247'}, page_content='Application Process'),\n",
       " Document(metadata={'source': '../data/word_docs/rag-proposals.docx', 'category_depth': 0, 'file_directory': '../data/word_docs', 'filename': 'rag-proposals.docx', 'last_modified': '2025-10-25T23:05:44', 'page_number': 3, 'languages': ['eng'], 'filetype': 'application/vnd.openxmlformats-officedocument.wordprocessingml.document', 'category': 'UncategorizedText', 'element_id': '9ed325fa6ce4d7c5966a2241d6c64643'}, page_content='Please submit the following to [Insert Contact Email or Application Link]:'),\n",
       " Document(metadata={'source': '../data/word_docs/rag-proposals.docx', 'category_depth': 0, 'file_directory': '../data/word_docs', 'filename': 'rag-proposals.docx', 'last_modified': '2025-10-25T23:05:44', 'page_number': 3, 'languages': ['eng'], 'filetype': 'application/vnd.openxmlformats-officedocument.wordprocessingml.document', 'category': 'ListItem', 'element_id': '6f89eec947678bc917df4ecac9dc98d3'}, page_content='Resume/CV highlighting RAG and LLM-related experience'),\n",
       " Document(metadata={'source': '../data/word_docs/rag-proposals.docx', 'category_depth': 0, 'file_directory': '../data/word_docs', 'filename': 'rag-proposals.docx', 'last_modified': '2025-10-25T23:05:44', 'page_number': 3, 'languages': ['eng'], 'filetype': 'application/vnd.openxmlformats-officedocument.wordprocessingml.document', 'category': 'ListItem', 'element_id': '046b4af4633312f40ce6168525aba3fb'}, page_content='Links to GitHub, portfolio, or prior AI projects'),\n",
       " Document(metadata={'source': '../data/word_docs/rag-proposals.docx', 'category_depth': 0, 'file_directory': '../data/word_docs', 'filename': 'rag-proposals.docx', 'last_modified': '2025-10-25T23:05:44', 'page_number': 3, 'languages': ['eng'], 'filetype': 'application/vnd.openxmlformats-officedocument.wordprocessingml.document', 'category': 'ListItem', 'element_id': '711d3a6bac63e02138c0952402133581'}, page_content='A short note (2–3 lines) describing your interest in RAG-based systems'),\n",
       " Document(metadata={'source': '../data/word_docs/rag-proposals.docx', 'category_depth': 0, 'emphasized_text_contents': ['version tailored for government/research institute use', 'Project Details', 'Tenure'], 'emphasized_text_tags': ['b', 'b', 'b'], 'file_directory': '../data/word_docs', 'filename': 'rag-proposals.docx', 'last_modified': '2025-10-25T23:05:44', 'page_number': 3, 'languages': ['eng'], 'filetype': 'application/vnd.openxmlformats-officedocument.wordprocessingml.document', 'category': 'NarrativeText', 'element_id': '62e3ff779f9738a677cf0b4dc4b2c915'}, page_content='Would you like me to make a version tailored for government/research institute use (e.g., ICAR, NIC, or academic research lab format with project duration, funding source, and grade pay)?\\nThat version would include a second table for Project Details and Tenure, common in official postings.')]"
      ]
     },
     "execution_count": 5,
     "metadata": {},
     "output_type": "execute_result"
    }
   ],
   "source": [
    "documents_unstructured\n"
   ]
  },
  {
   "cell_type": "code",
   "execution_count": null,
   "id": "2b905d38",
   "metadata": {},
   "outputs": [],
   "source": []
  }
 ],
 "metadata": {
  "kernelspec": {
   "display_name": "rag-intro",
   "language": "python",
   "name": "python3"
  },
  "language_info": {
   "codemirror_mode": {
    "name": "ipython",
    "version": 3
   },
   "file_extension": ".py",
   "mimetype": "text/x-python",
   "name": "python",
   "nbconvert_exporter": "python",
   "pygments_lexer": "ipython3",
   "version": "3.13.5"
  }
 },
 "nbformat": 4,
 "nbformat_minor": 5
}
